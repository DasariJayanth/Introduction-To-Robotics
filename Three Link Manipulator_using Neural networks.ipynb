{
  "nbformat": 4,
  "nbformat_minor": 0,
  "metadata": {
    "colab": {
      "name": "Untitled0.ipynb",
      "provenance": [],
      "authorship_tag": "ABX9TyPNuhl5X9z+H46iGwPEJCnL",
      "include_colab_link": true
    },
    "kernelspec": {
      "name": "python3",
      "display_name": "Python 3"
    },
    "language_info": {
      "name": "python"
    }
  },
  "cells": [
    {
      "cell_type": "markdown",
      "metadata": {
        "id": "view-in-github",
        "colab_type": "text"
      },
      "source": [
        "<a href=\"https://colab.research.google.com/github/DasariJayanth/Introduction-To-Robotics/blob/main/Three%20Link%20Manipulator_using%20Neural%20networks.ipynb\" target=\"_parent\"><img src=\"https://colab.research.google.com/assets/colab-badge.svg\" alt=\"Open In Colab\"/></a>"
      ]
    },
    {
      "cell_type": "code",
      "metadata": {
        "id": "kQswXL-EQL0N"
      },
      "source": [
        "import pandas as pd\n",
        "import numpy as np\n",
        "import matplotlib.pyplot as plt\n",
        "import random\n",
        "import math\n",
        "\n",
        "from sklearn.model_selection import train_test_split\n",
        "from keras import models, layers, regularizers"
      ],
      "execution_count": 1,
      "outputs": []
    },
    {
      "cell_type": "code",
      "metadata": {
        "id": "cz9PTeibQVoy"
      },
      "source": [
        "l1 = l2 = l3 = 7"
      ],
      "execution_count": 2,
      "outputs": []
    },
    {
      "cell_type": "code",
      "metadata": {
        "id": "zpv1TFNWQdBe"
      },
      "source": [
        "def three_link_manipulator_dataset():\n",
        "    rows = []\n",
        "    for i in range(1, 100000):\n",
        "        theta1 = round(random.uniform(0, math.pi), 2)\n",
        "        theta2 = round(random.uniform(-math.pi, 0), 2)\n",
        "        theta3 = round(random.uniform(-math.pi/2, math.pi/2), 2)\n",
        "        \n",
        "        x = round(l1*math.cos(theta1)+l2*math.cos(theta1+theta2)+l3*math.cos(theta1+theta2+theta3), 2)\n",
        "        y = round(l1*math.sin(theta1)+l2*math.sin(theta1+theta2)+l3*math.sin(theta1+theta2+theta3), 2)\n",
        "        phi = round(math.degrees(theta1)+math.degrees(theta2)+math.degrees(theta3), 2)\n",
        "        \n",
        "        rows.append([theta1, theta2, theta3, x, y, phi])\n",
        "\n",
        "    df = pd.DataFrame(rows, columns=['theta1', 'theta2', 'theta3', 'x', 'y', 'phi'])\n",
        "    df.to_csv('three_link.csv', index=False)\n",
        "    \n",
        "three_link_manipulator_dataset()"
      ],
      "execution_count": 3,
      "outputs": []
    },
    {
      "cell_type": "code",
      "metadata": {
        "colab": {
          "base_uri": "https://localhost:8080/",
          "height": 195
        },
        "id": "kwp0d0RDQiS6",
        "outputId": "cf73d543-8868-4654-bb6b-14ce32c39364"
      },
      "source": [
        "three_link_data = pd.read_csv('three_link.csv')\n",
        "three_link_data.head(5)"
      ],
      "execution_count": 4,
      "outputs": [
        {
          "output_type": "execute_result",
          "data": {
            "text/html": [
              "<div>\n",
              "<style scoped>\n",
              "    .dataframe tbody tr th:only-of-type {\n",
              "        vertical-align: middle;\n",
              "    }\n",
              "\n",
              "    .dataframe tbody tr th {\n",
              "        vertical-align: top;\n",
              "    }\n",
              "\n",
              "    .dataframe thead th {\n",
              "        text-align: right;\n",
              "    }\n",
              "</style>\n",
              "<table border=\"1\" class=\"dataframe\">\n",
              "  <thead>\n",
              "    <tr style=\"text-align: right;\">\n",
              "      <th></th>\n",
              "      <th>theta1</th>\n",
              "      <th>theta2</th>\n",
              "      <th>theta3</th>\n",
              "      <th>x</th>\n",
              "      <th>y</th>\n",
              "      <th>phi</th>\n",
              "    </tr>\n",
              "  </thead>\n",
              "  <tbody>\n",
              "    <tr>\n",
              "      <th>0</th>\n",
              "      <td>1.56</td>\n",
              "      <td>-2.87</td>\n",
              "      <td>0.04</td>\n",
              "      <td>3.95</td>\n",
              "      <td>-6.45</td>\n",
              "      <td>-72.77</td>\n",
              "    </tr>\n",
              "    <tr>\n",
              "      <th>1</th>\n",
              "      <td>2.17</td>\n",
              "      <td>-1.30</td>\n",
              "      <td>-0.47</td>\n",
              "      <td>7.01</td>\n",
              "      <td>13.86</td>\n",
              "      <td>22.92</td>\n",
              "    </tr>\n",
              "    <tr>\n",
              "      <th>2</th>\n",
              "      <td>0.62</td>\n",
              "      <td>-2.60</td>\n",
              "      <td>-0.30</td>\n",
              "      <td>-1.65</td>\n",
              "      <td>-7.67</td>\n",
              "      <td>-130.63</td>\n",
              "    </tr>\n",
              "    <tr>\n",
              "      <th>3</th>\n",
              "      <td>2.98</td>\n",
              "      <td>-1.26</td>\n",
              "      <td>-0.17</td>\n",
              "      <td>-7.80</td>\n",
              "      <td>15.05</td>\n",
              "      <td>88.81</td>\n",
              "    </tr>\n",
              "    <tr>\n",
              "      <th>4</th>\n",
              "      <td>0.85</td>\n",
              "      <td>-3.01</td>\n",
              "      <td>-0.30</td>\n",
              "      <td>-4.71</td>\n",
              "      <td>-4.97</td>\n",
              "      <td>-140.95</td>\n",
              "    </tr>\n",
              "  </tbody>\n",
              "</table>\n",
              "</div>"
            ],
            "text/plain": [
              "   theta1  theta2  theta3     x      y     phi\n",
              "0    1.56   -2.87    0.04  3.95  -6.45  -72.77\n",
              "1    2.17   -1.30   -0.47  7.01  13.86   22.92\n",
              "2    0.62   -2.60   -0.30 -1.65  -7.67 -130.63\n",
              "3    2.98   -1.26   -0.17 -7.80  15.05   88.81\n",
              "4    0.85   -3.01   -0.30 -4.71  -4.97 -140.95"
            ]
          },
          "metadata": {
            "tags": []
          },
          "execution_count": 4
        }
      ]
    },
    {
      "cell_type": "code",
      "metadata": {
        "colab": {
          "base_uri": "https://localhost:8080/",
          "height": 265
        },
        "id": "hL5CXSsOQp8G",
        "outputId": "5d5c4325-0981-45f5-e78d-2fc09e6f8c13"
      },
      "source": [
        "plt.scatter(three_link_data['x'], three_link_data['y'])\n",
        "plt.show()"
      ],
      "execution_count": 5,
      "outputs": [
        {
          "output_type": "display_data",
          "data": {
            "image/png": "[encoded data removed]",
            "text/plain": [
              "<Figure size 432x288 with 1 Axes>"
            ]
          },
          "metadata": {
            "tags": [],
            "needs_background": "light"
          }
        }
      ]
    },
    {
      "cell_type": "code",
      "metadata": {
        "id": "W-Foe_2vQxQj"
      },
      "source": [
        "X = three_link_data[['x', 'y', 'phi']]\n",
        "y = three_link_data[['theta1', 'theta2', 'theta3']]\n",
        "train_X, test_X, train_y, test_y = train_test_split(X, y, test_size=0.1)"
      ],
      "execution_count": 6,
      "outputs": []
    },
    {
      "cell_type": "code",
      "metadata": {
        "colab": {
          "base_uri": "https://localhost:8080/"
        },
        "id": "y7g11YByQ5fY",
        "outputId": "049f0797-3686-47e9-da5f-5fa7e2af62aa"
      },
      "source": [
        "model = models.Sequential()\n",
        "model.add(layers.Dense(units=3, input_dim=3, kernel_initializer='uniform'))\n",
        "model.add(layers.Dense(units=100, kernel_initializer='uniform', activation='relu'))\n",
        "model.add(layers.Dense(units=100, kernel_initializer='uniform', activation='relu'))\n",
        "model.add(layers.Dense(units=3, kernel_initializer = 'uniform', activation='linear'))\n",
        "\n",
        "model.summary()"
      ],
      "execution_count": 7,
      "outputs": [
        {
          "output_type": "stream",
          "text": [
            "Model: \"sequential\"\n",
            "_________________________________________________________________\n",
            "Layer (type)                 Output Shape              Param #   \n",
            "=================================================================\n",
            "dense (Dense)                (None, 3)                 12        \n",
            "_________________________________________________________________\n",
            "dense_1 (Dense)              (None, 100)               400       \n",
            "_________________________________________________________________\n",
            "dense_2 (Dense)              (None, 100)               10100     \n",
            "_________________________________________________________________\n",
            "dense_3 (Dense)              (None, 3)                 303       \n",
            "=================================================================\n",
            "Total params: 10,815\n",
            "Trainable params: 10,815\n",
            "Non-trainable params: 0\n",
            "_________________________________________________________________\n"
          ],
          "name": "stdout"
        }
      ]
    },
    {
      "cell_type": "code",
      "metadata": {
        "id": "BM3LirCNQ_Sj"
      },
      "source": [
        "model.compile(optimizer='adam', loss='mean_squared_error', metrics=['accuracy'])"
      ],
      "execution_count": 8,
      "outputs": []
    },
    {
      "cell_type": "code",
      "metadata": {
        "colab": {
          "base_uri": "https://localhost:8080/"
        },
        "id": "eFZvFaj7REPG",
        "outputId": "b51df583-2a42-4409-ad2a-e4131a90752e"
      },
      "source": [
        "#Training model\n",
        "history = model.fit(train_X, train_y, epochs=30, validation_split=0.1, shuffle=True)"
      ],
      "execution_count": 9,
      "outputs": [
        {
          "output_type": "stream",
          "text": [
            "Epoch 1/30\n",
            "2532/2532 [==============================] - 5s 2ms/step - loss: 0.4113 - accuracy: 0.9101 - val_loss: 0.0366 - val_accuracy: 0.9668\n",
            "Epoch 2/30\n",
            "2532/2532 [==============================] - 4s 1ms/step - loss: 0.0366 - accuracy: 0.9656 - val_loss: 0.0273 - val_accuracy: 0.9706\n",
            "Epoch 3/30\n",
            "2532/2532 [==============================] - 4s 1ms/step - loss: 0.0293 - accuracy: 0.9687 - val_loss: 0.0212 - val_accuracy: 0.9694\n",
            "Epoch 4/30\n",
            "2532/2532 [==============================] - 4s 1ms/step - loss: 0.0256 - accuracy: 0.9721 - val_loss: 0.0201 - val_accuracy: 0.9767\n",
            "Epoch 5/30\n",
            "2532/2532 [==============================] - 4s 1ms/step - loss: 0.0226 - accuracy: 0.9732 - val_loss: 0.0304 - val_accuracy: 0.9762\n",
            "Epoch 6/30\n",
            "2532/2532 [==============================] - 4s 1ms/step - loss: 0.0205 - accuracy: 0.9749 - val_loss: 0.0259 - val_accuracy: 0.9601\n",
            "Epoch 7/30\n",
            "2532/2532 [==============================] - 4s 1ms/step - loss: 0.0191 - accuracy: 0.9746 - val_loss: 0.0207 - val_accuracy: 0.9662\n",
            "Epoch 8/30\n",
            "2532/2532 [==============================] - 4s 1ms/step - loss: 0.0176 - accuracy: 0.9767 - val_loss: 0.0165 - val_accuracy: 0.9770\n",
            "Epoch 9/30\n",
            "2532/2532 [==============================] - 4s 1ms/step - loss: 0.0174 - accuracy: 0.9767 - val_loss: 0.0227 - val_accuracy: 0.9772\n",
            "Epoch 10/30\n",
            "2532/2532 [==============================] - 4s 1ms/step - loss: 0.0166 - accuracy: 0.9770 - val_loss: 0.0162 - val_accuracy: 0.9740\n",
            "Epoch 11/30\n",
            "2532/2532 [==============================] - 4s 1ms/step - loss: 0.0164 - accuracy: 0.9776 - val_loss: 0.0143 - val_accuracy: 0.9768\n",
            "Epoch 12/30\n",
            "2532/2532 [==============================] - 4s 1ms/step - loss: 0.0159 - accuracy: 0.9783 - val_loss: 0.0126 - val_accuracy: 0.9776\n",
            "Epoch 13/30\n",
            "2532/2532 [==============================] - 4s 1ms/step - loss: 0.0152 - accuracy: 0.9798 - val_loss: 0.0174 - val_accuracy: 0.9683\n",
            "Epoch 14/30\n",
            "2532/2532 [==============================] - 4s 1ms/step - loss: 0.0146 - accuracy: 0.9802 - val_loss: 0.0103 - val_accuracy: 0.9819\n",
            "Epoch 15/30\n",
            "2532/2532 [==============================] - 4s 1ms/step - loss: 0.0147 - accuracy: 0.9824 - val_loss: 0.0152 - val_accuracy: 0.9811\n",
            "Epoch 16/30\n",
            "2532/2532 [==============================] - 4s 1ms/step - loss: 0.0138 - accuracy: 0.9831 - val_loss: 0.0216 - val_accuracy: 0.9839\n",
            "Epoch 17/30\n",
            "2532/2532 [==============================] - 4s 1ms/step - loss: 0.0147 - accuracy: 0.9810 - val_loss: 0.0128 - val_accuracy: 0.9831\n",
            "Epoch 18/30\n",
            "2532/2532 [==============================] - 4s 1ms/step - loss: 0.0129 - accuracy: 0.9837 - val_loss: 0.0118 - val_accuracy: 0.9849\n",
            "Epoch 19/30\n",
            "2532/2532 [==============================] - 4s 1ms/step - loss: 0.0132 - accuracy: 0.9837 - val_loss: 0.0181 - val_accuracy: 0.9872\n",
            "Epoch 20/30\n",
            "2532/2532 [==============================] - 4s 1ms/step - loss: 0.0126 - accuracy: 0.9850 - val_loss: 0.0109 - val_accuracy: 0.9837\n",
            "Epoch 21/30\n",
            "2532/2532 [==============================] - 4s 1ms/step - loss: 0.0124 - accuracy: 0.9851 - val_loss: 0.0102 - val_accuracy: 0.9813\n",
            "Epoch 22/30\n",
            "2532/2532 [==============================] - 4s 1ms/step - loss: 0.0127 - accuracy: 0.9851 - val_loss: 0.0218 - val_accuracy: 0.9849\n",
            "Epoch 23/30\n",
            "2532/2532 [==============================] - 4s 1ms/step - loss: 0.0123 - accuracy: 0.9853 - val_loss: 0.0156 - val_accuracy: 0.9816\n",
            "Epoch 24/30\n",
            "2532/2532 [==============================] - 4s 1ms/step - loss: 0.0125 - accuracy: 0.9846 - val_loss: 0.0087 - val_accuracy: 0.9841\n",
            "Epoch 25/30\n",
            "2532/2532 [==============================] - 4s 1ms/step - loss: 0.0116 - accuracy: 0.9858 - val_loss: 0.0094 - val_accuracy: 0.9863\n",
            "Epoch 26/30\n",
            "2532/2532 [==============================] - 4s 1ms/step - loss: 0.0121 - accuracy: 0.9850 - val_loss: 0.0102 - val_accuracy: 0.9887\n",
            "Epoch 27/30\n",
            "2532/2532 [==============================] - 4s 1ms/step - loss: 0.0123 - accuracy: 0.9848 - val_loss: 0.0088 - val_accuracy: 0.9889\n",
            "Epoch 28/30\n",
            "2532/2532 [==============================] - 4s 1ms/step - loss: 0.0116 - accuracy: 0.9865 - val_loss: 0.0105 - val_accuracy: 0.9817\n",
            "Epoch 29/30\n",
            "2532/2532 [==============================] - 4s 1ms/step - loss: 0.0125 - accuracy: 0.9845 - val_loss: 0.0085 - val_accuracy: 0.9876\n",
            "Epoch 30/30\n",
            "2532/2532 [==============================] - 4s 2ms/step - loss: 0.0125 - accuracy: 0.9852 - val_loss: 0.0099 - val_accuracy: 0.9848\n"
          ],
          "name": "stdout"
        }
      ]
    },
    {
      "cell_type": "code",
      "metadata": {
        "colab": {
          "base_uri": "https://localhost:8080/",
          "height": 295
        },
        "id": "rx7IkzjARK2D",
        "outputId": "fb7e98a5-ead6-4647-837b-791d79803db5"
      },
      "source": [
        "plt.plot(history.history['accuracy'])\n",
        "plt.plot(history.history['val_accuracy'])\n",
        "plt.title('model accuracy')\n",
        "plt.ylabel('accuracy')\n",
        "plt.xlabel('epoch')\n",
        "plt.legend(['train', 'val'], loc='upper left')\n",
        "plt.show()"
      ],
      "execution_count": 10,
      "outputs": [
        {
          "output_type": "display_data",
          "data": {
            "image/png": "[encoded data removed]",
            "text/plain": [
              "<Figure size 432x288 with 1 Axes>"
            ]
          },
          "metadata": {
            "tags": [],
            "needs_background": "light"
          }
        }
      ]
    },
    {
      "cell_type": "code",
      "metadata": {
        "colab": {
          "base_uri": "https://localhost:8080/",
          "height": 295
        },
        "id": "J5EXN1xwRS8T",
        "outputId": "38294607-7b01-444b-96b9-66dd43ec6b4b"
      },
      "source": [
        "plt.plot(history.history['loss'])\n",
        "plt.plot(history.history['val_loss'])\n",
        "plt.title('model loss')\n",
        "plt.ylabel('loss')\n",
        "plt.xlabel('epoch')\n",
        "plt.legend(['train', 'val'], loc='upper left')\n",
        "plt.show()"
      ],
      "execution_count": 11,
      "outputs": [
        {
          "output_type": "display_data",
          "data": {
            "image/png": "[encoded data removed]",
            "text/plain": [
              "<Figure size 432x288 with 1 Axes>"
            ]
          },
          "metadata": {
            "tags": [],
            "needs_background": "light"
          }
        }
      ]
    },
    {
      "cell_type": "code",
      "metadata": {
        "colab": {
          "base_uri": "https://localhost:8080/"
        },
        "id": "MrCC2XipRYd3",
        "outputId": "96ebcf46-2bc1-4346-a56c-091f5ad8a73d"
      },
      "source": [
        "test_loss, test_acc = model.evaluate(test_X, test_y)\n",
        "\n",
        "print('\\nTesting Loss = ', test_loss)\n",
        "print('Testing Accuracy = ', test_acc)"
      ],
      "execution_count": 12,
      "outputs": [
        {
          "output_type": "stream",
          "text": [
            "313/313 [==============================] - 0s 800us/step - loss: 0.0105 - accuracy: 0.9855\n",
            "\n",
            "Testing Loss =  0.01050037145614624\n",
            "Testing Accuracy =  0.9854999780654907\n"
          ],
          "name": "stdout"
        }
      ]
    },
    {
      "cell_type": "code",
      "metadata": {
        "id": "t4-XCtECRcVW"
      },
      "source": [
        "def iiitm_dataset():\n",
        "    rows = []\n",
        "\n",
        "    # for I\n",
        "    arr = np.linspace(5, 7, 100)\n",
        "    for y in arr:\n",
        "        x = 6\n",
        "        theta = math.degrees(math.atan(y/x))\n",
        "        rows.append([x, y, theta])\n",
        "\n",
        "    # for I\n",
        "    arr = np.linspace(5, 7, 100)\n",
        "    for y in arr:\n",
        "        x = 7\n",
        "        theta = math.degrees(math.atan(y/x))\n",
        "        rows.append([x, y, theta])\n",
        "\n",
        "    # for I\n",
        "    arr = np.linspace(5, 7, 100)\n",
        "    for y in arr:\n",
        "        x = 8\n",
        "        theta = math.degrees(math.atan(y/x))\n",
        "        rows.append([x, y, theta])\n",
        "\n",
        "    # for T\n",
        "    arr = np.linspace(8.5, 10.5, 100)\n",
        "    for x in arr:\n",
        "        y = 7\n",
        "        theta = math.degrees(math.atan(y/x))\n",
        "        rows.append([x, y, theta])\n",
        "\n",
        "    arr = np.linspace(5, 7, 100)\n",
        "    for y in arr:\n",
        "        x = 9.5\n",
        "        theta = math.degrees(math.atan(y/x))\n",
        "        rows.append([x, y, theta])\n",
        "\n",
        "    # for M\n",
        "    arr = np.linspace(5, 7, 100)\n",
        "    for y in arr:\n",
        "        x = 11\n",
        "        theta = math.degrees(math.atan(y/x))\n",
        "        rows.append([x, y, theta])\n",
        "\n",
        "    arr = np.linspace(5, 7, 100)\n",
        "    for y in arr:\n",
        "        x = ((-y)+29)/2\n",
        "        theta = math.degrees(math.atan(y/x))\n",
        "        rows.append([x, y, theta])\n",
        "\n",
        "    arr = np.linspace(5, 7, 100)\n",
        "    for y in arr:\n",
        "        x = ((y)+19)/2\n",
        "        theta = math.degrees(math.atan(y/x))\n",
        "        rows.append([x, y, theta])\n",
        "\n",
        "    arr = np.linspace(5, 7, 100)\n",
        "    for y in arr:\n",
        "        x = 13\n",
        "        theta = math.degrees(math.atan(y/x))\n",
        "        rows.append([x, y, theta])\n",
        "\n",
        "    df = pd.DataFrame(rows, columns=['x', 'y', 'theta'])\n",
        "    df.to_csv('iiitm.csv', index=False)\n",
        "    \n",
        "iiitm_dataset()"
      ],
      "execution_count": 13,
      "outputs": []
    },
    {
      "cell_type": "code",
      "metadata": {
        "id": "ex4pTptRR2Nb"
      },
      "source": [
        "def three_link_forward_kinematics(theta1, theta2, theta3):\n",
        "    x = (np.cos(theta1)*l1)+(np.cos(theta1+theta2)*l2)+(np.cos(theta1+theta2+theta3)*l3)\n",
        "    y = (np.sin(theta1)*l1)+(np.sin(theta1+theta2)*l2)+(np.sin(theta1+theta2+theta3)*l3)\n",
        "\n",
        "    return x, y"
      ],
      "execution_count": 15,
      "outputs": []
    },
    {
      "cell_type": "code",
      "metadata": {
        "id": "b-ZzGFeORlIB"
      },
      "source": [
        "iiitm_data = pd.read_csv('iiitm.csv')\n",
        "iiitm_predictions = model.predict(iiitm_data.values)\n",
        "x_predictions, y_predictions = three_link_forward_kinematics(iiitm_predictions[:,0], iiitm_predictions[:,1], iiitm_predictions[:,2])"
      ],
      "execution_count": 16,
      "outputs": []
    },
    {
      "cell_type": "code",
      "metadata": {
        "colab": {
          "base_uri": "https://localhost:8080/",
          "height": 761
        },
        "id": "iWNH21MBR_y_",
        "outputId": "0f2585a5-09fb-4b7b-c69e-e55b24b938b4"
      },
      "source": [
        "#original\n",
        "plt.plot(iiitm_data['x'], iiitm_data['y'], 'go')\n",
        "plt.show()\n",
        "\n",
        "# Predicted\n",
        "plt.plot(x_predictions, y_predictions, 'bo')\n",
        "plt.show()\n",
        "\n",
        "# Original and Predicted\n",
        "plt.plot(iiitm_data['x'], iiitm_data['y'], 'go')\n",
        "plt.plot(x_predictions, y_predictions, 'bo')\n",
        "plt.show()"
      ],
      "execution_count": 17,
      "outputs": [
        {
          "output_type": "display_data",
          "data": {
            "image/png": "[encoded data removed]",
            "text/plain": [
              "<Figure size 432x288 with 1 Axes>"
            ]
          },
          "metadata": {
            "tags": [],
            "needs_background": "light"
          }
        },
        {
          "output_type": "display_data",
          "data": {
            "image/png": "[encoded data removed]",
            "text/plain": [
              "<Figure size 432x288 with 1 Axes>"
            ]
          },
          "metadata": {
            "tags": [],
            "needs_background": "light"
          }
        },
        {
          "output_type": "display_data",
          "data": {
            "image/png": "[encoded data removed]",
            "text/plain": [
              "<Figure size 432x288 with 1 Axes>"
            ]
          },
          "metadata": {
            "tags": [],
            "needs_background": "light"
          }
        }
      ]
    }
  ]
}